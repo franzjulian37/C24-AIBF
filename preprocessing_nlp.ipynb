{
  "nbformat": 4,
  "nbformat_minor": 0,
  "metadata": {
    "colab": {
      "provenance": []
    },
    "kernelspec": {
      "name": "python3",
      "display_name": "Python 3"
    },
    "language_info": {
      "name": "python"
    }
  },
  "cells": [
    {
      "cell_type": "code",
      "execution_count": null,
      "metadata": {
        "colab": {
          "base_uri": "https://localhost:8080/"
        },
        "id": "51PkPlApsrci",
        "outputId": "abd8a184-cbd9-47b5-a221-40c1aa65f5f5"
      },
      "outputs": [
        {
          "output_type": "stream",
          "name": "stdout",
          "text": [
            "News retrieved successfully.\n",
            "Sample Title: Delta CEO says Trump's trade war is hurting bookings as airline axes 2025 flight growth plans - CNBC\n"
          ]
        }
      ],
      "source": [
        "import requests\n",
        "import json\n",
        "\n",
        "# Define your API key and the endpoint URL\n",
        "api_key = '555a630757264dfe91011283370def9a'  # Replace with your NewsAPI key\n",
        "url = f'https://newsapi.org/v2/top-headlines?category=business&language=en&apiKey={api_key}'\n",
        "\n",
        "# Send a request to the NewsAPI endpoint\n",
        "response = requests.get(url)\n",
        "data = response.json()\n",
        "\n",
        "# Check if the retrieval was successful\n",
        "if response.status_code == 200:\n",
        "    print(\"News retrieved successfully.\")\n",
        "    # Example: print the title of the first article\n",
        "    if data.get('articles'):\n",
        "        print(\"Sample Title:\", data['articles'][0]['title'])\n",
        "else:\n",
        "    print(\"Failed to retrieve news:\", data.get('message'))\n",
        "\n",
        "# For further processing, you may want to store the list of articles.\n",
        "articles = data.get('articles', [])\n"
      ]
    },
    {
      "cell_type": "code",
      "source": [],
      "metadata": {
        "id": "ABBKAd1Ddwn9"
      },
      "execution_count": null,
      "outputs": []
    },
    {
      "cell_type": "code",
      "source": [
        "import re\n",
        "\n",
        "def clean_text(text):\n",
        "    \"\"\"\n",
        "    Remove unwanted characters and HTML tags,\n",
        "    and fix spacing issues.\n",
        "    \"\"\"\n",
        "    # Remove HTML tags\n",
        "    text = re.sub(r'<[^>]+>', ' ', text)\n",
        "    # Remove non-alphabetic characters (keep punctuation as needed)\n",
        "    text = re.sub(r'[^a-zA-Z\\s]', ' ', text)\n",
        "    # Remove extra spaces\n",
        "    text = re.sub(r'\\s+', ' ', text).strip()\n",
        "    return text\n",
        "\n",
        "# Example usage:\n",
        "raw_text = \"Breaking news: <p>Markets surge!</p> #finance2025\"\n",
        "cleaned_text = clean_text(raw_text)\n",
        "print(\"Cleaned Text:\", cleaned_text)\n"
      ],
      "metadata": {
        "colab": {
          "base_uri": "https://localhost:8080/"
        },
        "id": "LChJzT0OsznZ",
        "outputId": "db20af56-318c-45a3-ad53-4b229cc6c509"
      },
      "execution_count": null,
      "outputs": [
        {
          "output_type": "stream",
          "name": "stdout",
          "text": [
            "Cleaned Text: Breaking news Markets surge finance\n"
          ]
        }
      ]
    },
    {
      "cell_type": "code",
      "source": [
        "import nltk\n",
        "nltk.download('punkt')\n",
        "nltk.download('punkt_tab')\n",
        "from nltk.tokenize import word_tokenize\n",
        "\n",
        "def tokenize_text(text):\n",
        "    \"\"\"\n",
        "    Tokenize text into individual words.\n",
        "    \"\"\"\n",
        "    tokens = word_tokenize(text)\n",
        "    return tokens\n",
        "\n",
        "# Tokenizing the cleaned text\n",
        "tokens = tokenize_text(cleaned_text)\n",
        "print(\"Tokens:\", tokens)\n"
      ],
      "metadata": {
        "colab": {
          "base_uri": "https://localhost:8080/"
        },
        "id": "al0A1LAEs28v",
        "outputId": "f5509060-d43f-417f-bc69-4dbb8089b60b"
      },
      "execution_count": null,
      "outputs": [
        {
          "output_type": "stream",
          "name": "stdout",
          "text": [
            "Tokens: ['Breaking', 'news', 'Markets', 'surge', 'finance']\n"
          ]
        },
        {
          "output_type": "stream",
          "name": "stderr",
          "text": [
            "[nltk_data] Downloading package punkt to /root/nltk_data...\n",
            "[nltk_data]   Package punkt is already up-to-date!\n",
            "[nltk_data] Downloading package punkt_tab to /root/nltk_data...\n",
            "[nltk_data]   Unzipping tokenizers/punkt_tab.zip.\n"
          ]
        }
      ]
    },
    {
      "cell_type": "code",
      "source": [
        "nltk.download('stopwords')\n",
        "from nltk.corpus import stopwords\n",
        "\n",
        "stop_words = set(stopwords.words('english'))\n",
        "\n",
        "def remove_stopwords(tokens):\n",
        "    \"\"\"\n",
        "    Remove stopwords from token list.\n",
        "    \"\"\"\n",
        "    filtered_tokens = [token for token in tokens if token.lower() not in stop_words]\n",
        "    return filtered_tokens\n",
        "\n",
        "# Remove stopwords from tokens\n",
        "filtered_tokens = remove_stopwords(tokens)\n",
        "print(\"Tokens after Stopword Removal:\", filtered_tokens)\n"
      ],
      "metadata": {
        "colab": {
          "base_uri": "https://localhost:8080/"
        },
        "id": "iN1jlGxYtFVT",
        "outputId": "7482227e-5960-458d-bedb-fc44bd4b2089"
      },
      "execution_count": null,
      "outputs": [
        {
          "output_type": "stream",
          "name": "stdout",
          "text": [
            "Tokens after Stopword Removal: ['Breaking', 'news', 'Markets', 'surge', 'finance']\n"
          ]
        },
        {
          "output_type": "stream",
          "name": "stderr",
          "text": [
            "[nltk_data] Downloading package stopwords to /root/nltk_data...\n",
            "[nltk_data]   Unzipping corpora/stopwords.zip.\n"
          ]
        }
      ]
    },
    {
      "cell_type": "code",
      "source": [
        "def normalize_tokens(tokens):\n",
        "    \"\"\"\n",
        "    Normalize tokens by converting to lowercase.\n",
        "    \"\"\"\n",
        "    return [token.lower() for token in tokens]\n",
        "\n",
        "# Normalize token list\n",
        "normalized_tokens = normalize_tokens(filtered_tokens)\n",
        "print(\"Normalized Tokens:\", normalized_tokens)\n"
      ],
      "metadata": {
        "colab": {
          "base_uri": "https://localhost:8080/"
        },
        "id": "RFUYxyrYtIIq",
        "outputId": "200684cb-6be0-46f9-f410-9b3f2c503ad1"
      },
      "execution_count": null,
      "outputs": [
        {
          "output_type": "stream",
          "name": "stdout",
          "text": [
            "Normalized Tokens: ['breaking', 'news', 'markets', 'surge', 'finance']\n"
          ]
        }
      ]
    },
    {
      "cell_type": "code",
      "source": [
        "from nltk.stem import PorterStemmer\n",
        "\n",
        "def stem_tokens(tokens):\n",
        "    \"\"\"\n",
        "    Stem tokens using the Porter Stemmer.\n",
        "    \"\"\"\n",
        "    stemmer = PorterStemmer()\n",
        "    return [stemmer.stem(token) for token in tokens]\n",
        "\n",
        "stemmed_tokens = stem_tokens(normalized_tokens)\n",
        "print(\"Stemmed Tokens:\", stemmed_tokens)\n"
      ],
      "metadata": {
        "colab": {
          "base_uri": "https://localhost:8080/"
        },
        "id": "cYoYkYO9tKHA",
        "outputId": "3b2ac4bd-eae9-489c-b390-37dd09f95ffb"
      },
      "execution_count": null,
      "outputs": [
        {
          "output_type": "stream",
          "name": "stdout",
          "text": [
            "Stemmed Tokens: ['break', 'news', 'market', 'surg', 'financ']\n"
          ]
        }
      ]
    },
    {
      "cell_type": "code",
      "source": [
        "# Make sure to install spaCy and download the English model (if not already installed)\n",
        "# !pip install spacy\n",
        "# !python -m spacy download en_core_web_sm\n",
        "\n",
        "import spacy\n",
        "\n",
        "# Load the English language model\n",
        "nlp = spacy.load(\"en_core_web_sm\")\n",
        "\n",
        "def lemmatize_text(text):\n",
        "    \"\"\"\n",
        "    Lemmatize text using spaCy.\n",
        "    \"\"\"\n",
        "    doc = nlp(text)\n",
        "    return [token.lemma_ for token in doc if not token.is_punct and not token.is_space]\n",
        "\n",
        "lemmatized_tokens = lemmatize_text(\" \".join(normalized_tokens))\n",
        "print(\"Lemmatized Tokens:\", lemmatized_tokens)\n"
      ],
      "metadata": {
        "colab": {
          "base_uri": "https://localhost:8080/"
        },
        "id": "IYuOT3KitMqg",
        "outputId": "30697917-f6af-4f22-bb68-975f05752b22"
      },
      "execution_count": null,
      "outputs": [
        {
          "output_type": "stream",
          "name": "stdout",
          "text": [
            "Lemmatized Tokens: ['break', 'news', 'market', 'surge', 'finance']\n"
          ]
        }
      ]
    },
    {
      "cell_type": "code",
      "source": [
        "from nltk.util import ngrams\n",
        "\n",
        "def generate_ngrams(tokens, n=2):\n",
        "    \"\"\"\n",
        "    Generate n-grams from token list.\n",
        "    \"\"\"\n",
        "    return list(ngrams(tokens, n))\n",
        "\n",
        "# Generate bi-grams (2-grams)\n",
        "bigrams = generate_ngrams(normalized_tokens, 2)\n",
        "print(\"Bigrams:\", bigrams)\n"
      ],
      "metadata": {
        "colab": {
          "base_uri": "https://localhost:8080/"
        },
        "id": "hNd-txXztREy",
        "outputId": "f92a43bc-ef1a-4c63-fb2f-27dc20f41604"
      },
      "execution_count": null,
      "outputs": [
        {
          "output_type": "stream",
          "name": "stdout",
          "text": [
            "Bigrams: [('breaking', 'news'), ('news', 'markets'), ('markets', 'surge'), ('surge', 'finance')]\n"
          ]
        }
      ]
    },
    {
      "cell_type": "code",
      "source": [
        "def pos_tagging(text):\n",
        "    \"\"\"\n",
        "    Perform POS tagging using spaCy.\n",
        "    \"\"\"\n",
        "    doc = nlp(text)\n",
        "    return [(token.text, token.pos_) for token in doc]\n",
        "\n",
        "# POS tagging on the cleaned text\n",
        "pos_tags = pos_tagging(\" \".join(normalized_tokens))\n",
        "print(\"POS Tags:\", pos_tags)\n"
      ],
      "metadata": {
        "colab": {
          "base_uri": "https://localhost:8080/"
        },
        "id": "OU_O8M_utTMi",
        "outputId": "7035f7d0-4f32-4fcf-f47f-bcdcf7418015"
      },
      "execution_count": null,
      "outputs": [
        {
          "output_type": "stream",
          "name": "stdout",
          "text": [
            "POS Tags: [('breaking', 'VERB'), ('news', 'NOUN'), ('markets', 'NOUN'), ('surge', 'NOUN'), ('finance', 'NOUN')]\n"
          ]
        }
      ]
    },
    {
      "cell_type": "code",
      "source": [
        "from sklearn.feature_extraction.text import TfidfVectorizer\n",
        "\n",
        "# Example corpus: a list of preprocessed article texts (here using cleaned_text for demonstration)\n",
        "corpus = [cleaned_text, cleaned_text]  # In practice, use all retrieved articles\n",
        "\n",
        "# Initialize the vectorizer\n",
        "vectorizer = TfidfVectorizer(stop_words='english')\n",
        "tfidf_matrix = vectorizer.fit_transform(corpus)\n",
        "\n",
        "print(\"TF-IDF Feature Names:\", vectorizer.get_feature_names_out())\n",
        "print(\"TF-IDF Matrix Shape:\", tfidf_matrix.shape)\n"
      ],
      "metadata": {
        "colab": {
          "base_uri": "https://localhost:8080/"
        },
        "id": "SJLXwGfotVe2",
        "outputId": "8919f1d3-74b2-45d0-800b-daf63c056031"
      },
      "execution_count": null,
      "outputs": [
        {
          "output_type": "stream",
          "name": "stdout",
          "text": [
            "TF-IDF Feature Names: ['breaking' 'finance' 'markets' 'news' 'surge']\n",
            "TF-IDF Matrix Shape: (2, 5)\n"
          ]
        }
      ]
    },
    {
      "cell_type": "code",
      "source": [
        "!pip install gensim"
      ],
      "metadata": {
        "colab": {
          "base_uri": "https://localhost:8080/"
        },
        "id": "dc59Wnc1tZAs",
        "outputId": "9d9409b0-b9b0-444e-b4ac-1eeb44490720"
      },
      "execution_count": null,
      "outputs": [
        {
          "output_type": "stream",
          "name": "stdout",
          "text": [
            "Collecting gensim\n",
            "  Downloading gensim-4.3.3-cp311-cp311-manylinux_2_17_x86_64.manylinux2014_x86_64.whl.metadata (8.1 kB)\n",
            "Collecting numpy<2.0,>=1.18.5 (from gensim)\n",
            "  Downloading numpy-1.26.4-cp311-cp311-manylinux_2_17_x86_64.manylinux2014_x86_64.whl.metadata (61 kB)\n",
            "\u001b[2K     \u001b[90m━━━━━━━━━━━━━━━━━━━━━━━━━━━━━━━━━━━━━━━━\u001b[0m \u001b[32m61.0/61.0 kB\u001b[0m \u001b[31m4.3 MB/s\u001b[0m eta \u001b[36m0:00:00\u001b[0m\n",
            "\u001b[?25hCollecting scipy<1.14.0,>=1.7.0 (from gensim)\n",
            "  Downloading scipy-1.13.1-cp311-cp311-manylinux_2_17_x86_64.manylinux2014_x86_64.whl.metadata (60 kB)\n",
            "\u001b[2K     \u001b[90m━━━━━━━━━━━━━━━━━━━━━━━━━━━━━━━━━━━━━━━━\u001b[0m \u001b[32m60.6/60.6 kB\u001b[0m \u001b[31m4.6 MB/s\u001b[0m eta \u001b[36m0:00:00\u001b[0m\n",
            "\u001b[?25hRequirement already satisfied: smart-open>=1.8.1 in /usr/local/lib/python3.11/dist-packages (from gensim) (7.1.0)\n",
            "Requirement already satisfied: wrapt in /usr/local/lib/python3.11/dist-packages (from smart-open>=1.8.1->gensim) (1.17.2)\n",
            "Downloading gensim-4.3.3-cp311-cp311-manylinux_2_17_x86_64.manylinux2014_x86_64.whl (26.7 MB)\n",
            "\u001b[2K   \u001b[90m━━━━━━━━━━━━━━━━━━━━━━━━━━━━━━━━━━━━━━━━\u001b[0m \u001b[32m26.7/26.7 MB\u001b[0m \u001b[31m65.1 MB/s\u001b[0m eta \u001b[36m0:00:00\u001b[0m\n",
            "\u001b[?25hDownloading numpy-1.26.4-cp311-cp311-manylinux_2_17_x86_64.manylinux2014_x86_64.whl (18.3 MB)\n",
            "\u001b[2K   \u001b[90m━━━━━━━━━━━━━━━━━━━━━━━━━━━━━━━━━━━━━━━━\u001b[0m \u001b[32m18.3/18.3 MB\u001b[0m \u001b[31m79.6 MB/s\u001b[0m eta \u001b[36m0:00:00\u001b[0m\n",
            "\u001b[?25hDownloading scipy-1.13.1-cp311-cp311-manylinux_2_17_x86_64.manylinux2014_x86_64.whl (38.6 MB)\n",
            "\u001b[2K   \u001b[90m━━━━━━━━━━━━━━━━━━━━━━━━━━━━━━━━━━━━━━━━\u001b[0m \u001b[32m38.6/38.6 MB\u001b[0m \u001b[31m14.1 MB/s\u001b[0m eta \u001b[36m0:00:00\u001b[0m\n",
            "\u001b[?25hInstalling collected packages: numpy, scipy, gensim\n",
            "  Attempting uninstall: numpy\n",
            "    Found existing installation: numpy 2.0.2\n",
            "    Uninstalling numpy-2.0.2:\n",
            "      Successfully uninstalled numpy-2.0.2\n",
            "  Attempting uninstall: scipy\n",
            "    Found existing installation: scipy 1.14.1\n",
            "    Uninstalling scipy-1.14.1:\n",
            "      Successfully uninstalled scipy-1.14.1\n",
            "Successfully installed gensim-4.3.3 numpy-1.26.4 scipy-1.13.1\n"
          ]
        }
      ]
    },
    {
      "cell_type": "code",
      "source": [
        "import gensim.downloader as api\n",
        "\n",
        "# Load a pre-trained Word2Vec model (this may take some time)\n",
        "model = api.load(\"word2vec-google-news-300\")  # Use the Google News vectors\n",
        "\n",
        "# Example: Get embedding for a word (if present in the vocabulary)\n",
        "word = \"finance\"\n",
        "if word in model.key_to_index:\n",
        "    embedding = model[word]\n",
        "    print(f\"Embedding shape for '{word}':\", embedding.shape)\n",
        "else:\n",
        "    print(f\"Word '{word}' not found in the model vocabulary.\")\n"
      ],
      "metadata": {
        "colab": {
          "base_uri": "https://localhost:8080/"
        },
        "id": "cTmVUZa2tXte",
        "outputId": "49640619-162c-4d52-b181-9a1a4353c29b"
      },
      "execution_count": null,
      "outputs": [
        {
          "output_type": "stream",
          "name": "stdout",
          "text": [
            "[==================================================] 100.0% 1662.8/1662.8MB downloaded\n",
            "Embedding shape for 'finance': (300,)\n"
          ]
        }
      ]
    },
    {
      "cell_type": "code",
      "source": [
        "!pip install numpy==1.24.0 gensim"
      ],
      "metadata": {
        "colab": {
          "base_uri": "https://localhost:8080/",
          "height": 538
        },
        "id": "HoGa6Xs6tmgJ",
        "outputId": "98faa94a-5bb5-4a32-c041-dc632fd02791"
      },
      "execution_count": null,
      "outputs": [
        {
          "output_type": "stream",
          "name": "stdout",
          "text": [
            "Collecting numpy==1.24.0\n",
            "  Downloading numpy-1.24.0-cp311-cp311-manylinux_2_17_x86_64.manylinux2014_x86_64.whl.metadata (5.6 kB)\n",
            "Requirement already satisfied: gensim in /usr/local/lib/python3.11/dist-packages (4.3.3)\n",
            "Requirement already satisfied: scipy<1.14.0,>=1.7.0 in /usr/local/lib/python3.11/dist-packages (from gensim) (1.13.1)\n",
            "Requirement already satisfied: smart-open>=1.8.1 in /usr/local/lib/python3.11/dist-packages (from gensim) (7.1.0)\n",
            "Requirement already satisfied: wrapt in /usr/local/lib/python3.11/dist-packages (from smart-open>=1.8.1->gensim) (1.17.2)\n",
            "Downloading numpy-1.24.0-cp311-cp311-manylinux_2_17_x86_64.manylinux2014_x86_64.whl (17.3 MB)\n",
            "\u001b[2K   \u001b[90m━━━━━━━━━━━━━━━━━━━━━━━━━━━━━━━━━━━━━━━━\u001b[0m \u001b[32m17.3/17.3 MB\u001b[0m \u001b[31m82.4 MB/s\u001b[0m eta \u001b[36m0:00:00\u001b[0m\n",
            "\u001b[?25hInstalling collected packages: numpy\n",
            "  Attempting uninstall: numpy\n",
            "    Found existing installation: numpy 1.26.4\n",
            "    Uninstalling numpy-1.26.4:\n",
            "      Successfully uninstalled numpy-1.26.4\n",
            "\u001b[31mERROR: pip's dependency resolver does not currently take into account all the packages that are installed. This behaviour is the source of the following dependency conflicts.\n",
            "chex 0.1.89 requires numpy>=1.24.1, but you have numpy 1.24.0 which is incompatible.\n",
            "pymc 5.21.2 requires numpy>=1.25.0, but you have numpy 1.24.0 which is incompatible.\n",
            "jaxlib 0.5.1 requires numpy>=1.25, but you have numpy 1.24.0 which is incompatible.\n",
            "blosc2 3.2.1 requires numpy>=1.26, but you have numpy 1.24.0 which is incompatible.\n",
            "albumentations 2.0.5 requires numpy>=1.24.4, but you have numpy 1.24.0 which is incompatible.\n",
            "treescope 0.1.9 requires numpy>=1.25.2, but you have numpy 1.24.0 which is incompatible.\n",
            "seaborn 0.13.2 requires numpy!=1.24.0,>=1.20, but you have numpy 1.24.0 which is incompatible.\n",
            "jax 0.5.2 requires numpy>=1.25, but you have numpy 1.24.0 which is incompatible.\n",
            "albucore 0.0.23 requires numpy>=1.24.4, but you have numpy 1.24.0 which is incompatible.\n",
            "imbalanced-learn 0.13.0 requires numpy<3,>=1.24.3, but you have numpy 1.24.0 which is incompatible.\n",
            "tensorflow 2.18.0 requires numpy<2.1.0,>=1.26.0, but you have numpy 1.24.0 which is incompatible.\u001b[0m\u001b[31m\n",
            "\u001b[0mSuccessfully installed numpy-1.24.0\n"
          ]
        },
        {
          "output_type": "display_data",
          "data": {
            "application/vnd.colab-display-data+json": {
              "pip_warning": {
                "packages": [
                  "numpy"
                ]
              },
              "id": "d60fb2f742fb49e9a8e7906fb0a961fc"
            }
          },
          "metadata": {}
        }
      ]
    },
    {
      "cell_type": "code",
      "source": [
        "import matplotlib.pyplot as plt\n",
        "import numpy as np\n",
        "from sklearn.feature_extraction.text import TfidfVectorizer\n",
        "from sklearn.decomposition import PCA\n",
        "import gensim.downloader as api\n",
        "\n",
        "###############################\n",
        "# Part 1: Visualizing TF-IDF\n",
        "###############################\n",
        "\n",
        "# Create a small corpus of example documents\n",
        "corpus = [\n",
        "    \"Finance is the backbone of any economy\",\n",
        "    \"Banking and finance have evolved with technology\",\n",
        "    \"Artificial intelligence is transforming financial services\",\n",
        "    \"The stock market shows high volatility in unpredictable markets\"\n",
        "]\n",
        "\n",
        "# Initialize the TF-IDF vectorizer and fit on the corpus.\n",
        "vectorizer = TfidfVectorizer(stop_words='english')\n",
        "tfidf_matrix = vectorizer.fit_transform(corpus)\n",
        "\n",
        "# Convert the sparse matrix to a dense array\n",
        "tfidf_dense = tfidf_matrix.todense()\n",
        "\n",
        "# Retrieve the feature names (words) corresponding to columns of tfidf_dense\n",
        "feature_names = vectorizer.get_feature_names_out()\n",
        "\n",
        "# Plot a heatmap for the TF-IDF matrix\n",
        "fig, ax = plt.subplots(figsize=(10, 6))\n",
        "heatmap = ax.imshow(tfidf_dense, aspect='auto', cmap='viridis')\n",
        "\n",
        "# Set ticks to correspond to documents and words\n",
        "ax.set_xticks(np.arange(len(feature_names)))\n",
        "ax.set_yticks(np.arange(len(corpus)))\n",
        "\n",
        "# Label the ticks with the feature names and document indices (or a short snippet)\n",
        "ax.set_xticklabels(feature_names, rotation=90, fontsize=9)\n",
        "ax.set_yticklabels([f\"Doc {i+1}\" for i in range(len(corpus))])\n",
        "\n",
        "# Add title and color bar for reference\n",
        "plt.title(\"TF-IDF Matrix Heatmap\")\n",
        "plt.colorbar(heatmap, ax=ax, fraction=0.046, pad=0.04)\n",
        "plt.tight_layout()\n",
        "plt.show()\n",
        "\n",
        "##############################################\n",
        "# Part 2: Visualizing Word2Vec using PCA (2D)\n",
        "##############################################\n",
        "\n",
        "# Load a pre-trained Word2Vec model (this may take a moment)\n",
        "# Here we use the Google News vectors; you may choose alternatives if needed.\n",
        "model = api.load(\"word2vec-google-news-300\")\n",
        "\n",
        "# Choose a set of words for visualization that are commonly present in financial texts.\n",
        "words_to_plot = [\"finance\", \"bank\", \"money\", \"economy\", \"market\", \"investment\", \"credit\", \"loan\", \"growth\", \"risk\"]\n",
        "\n",
        "# Filter out words that might not be present in the model vocabulary\n",
        "words = [word for word in words_to_plot if word in model.key_to_index]\n",
        "\n",
        "# Collect embeddings for these words.\n",
        "embeddings = np.array([model[word] for word in words])\n",
        "\n",
        "# Use PCA to reduce the embeddings from 300 dimensions to 2 dimensions.\n",
        "pca = PCA(n_components=2)\n",
        "embeddings_2d = pca.fit_transform(embeddings)\n",
        "\n",
        "# Create a scatter plot for the 2D embeddings.\n",
        "plt.figure(figsize=(8, 6))\n",
        "plt.scatter(embeddings_2d[:, 0], embeddings_2d[:, 1], marker='o')\n",
        "\n",
        "# Annotate each point with the corresponding word.\n",
        "for i, word in enumerate(words):\n",
        "    plt.annotate(word, xy=(embeddings_2d[i, 0], embeddings_2d[i, 1]), fontsize=10,\n",
        "                 xytext=(5, 2), textcoords='offset points')\n",
        "\n",
        "plt.title(\"Word2Vec Embeddings Visualized in 2D (via PCA)\")\n",
        "plt.xlabel(\"Principal Component 1\")\n",
        "plt.ylabel(\"Principal Component 2\")\n",
        "plt.grid(True)\n",
        "plt.tight_layout()\n",
        "plt.show()\n"
      ],
      "metadata": {
        "colab": {
          "base_uri": "https://localhost:8080/",
          "height": 1000
        },
        "id": "6waEhP-jutbc",
        "outputId": "da9e101e-d318-479b-b61d-f4de52ea35ed"
      },
      "execution_count": null,
      "outputs": [
        {
          "output_type": "display_data",
          "data": {
            "text/plain": [
              "<Figure size 1000x600 with 2 Axes>"
            ],
            "image/png": "[encoded data removed]"
          },
          "metadata": {}
        },
        {
          "output_type": "display_data",
          "data": {
            "text/plain": [
              "<Figure size 800x600 with 1 Axes>"
            ],
            "image/png": "[encoded data removed]"
          },
          "metadata": {}
        }
      ]
    }
  ]
}